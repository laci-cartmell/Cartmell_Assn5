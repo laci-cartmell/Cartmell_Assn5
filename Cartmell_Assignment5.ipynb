{
 "cells": [
  {
   "cell_type": "markdown",
   "metadata": {},
   "source": [
    "## Assignment 5 \n",
    "- How large of a turkey should I buy?"
   ]
  },
  {
   "cell_type": "markdown",
   "metadata": {},
   "source": [
    "### Part 1\n",
    "- Decide how many people will be eating turkey"
   ]
  },
  {
   "cell_type": "code",
   "execution_count": 150,
   "metadata": {},
   "outputs": [
    {
     "name": "stdout",
     "output_type": "stream",
     "text": [
      "Guest name list: ['Person', 'Fred', 'Jamie', 'Shelly', 'Eileen', 'Willard', 'Mike', 'Anna', 'Marie', 'Marian', 'Jessica', 'Alan', 'Rebecca', 'Bonnie', 'Mark', 'Leslie', 'Rachel', 'Olivia', 'Chelsea', 'Larry', 'Moe', 'Curly', 'Larry', 'Moe', 'Curly', 'Larry', 'Moe', 'Curly'] \n",
      "\n",
      "Guest meal preference: ['Vegetarian', 'No', 'No', 'Yes', 'No', 'Yes', 'Sometimes', 'No', 'Yes', 'Sometimes', 'No', 'No', 'No', 'No', 'No', 'Yes', 'No', 'No', 'No', 'No', 'Yes', 'Sometimes', 'No', 'Yes', 'Sometimes', 'No', 'Yes', 'Sometimes'] \n",
      "\n"
     ]
    }
   ],
   "source": [
    "# split into 2 lists and then make a nested list\n",
    "\n",
    "#open a readable file\n",
    "guest_list = open(\"guest_list.txt\", \"r\")\n",
    "\n",
    "# Declare empty lists\n",
    "guest_name=[]\n",
    "guest_meal=[]\n",
    "\n",
    "for guest in guest_list:\n",
    "    # strip white space\n",
    "    stripped_list = guest.rstrip()  \n",
    "\n",
    "    # split list\n",
    "    split_list=stripped_list.split(\"\\t\")\n",
    "    \n",
    "    # append first split to guest_name\n",
    "    guest_name.append(split_list[0])\n",
    "    \n",
    "    # append second split to guest_meal\n",
    "    guest_meal.append(split_list[1])\n",
    "print(f\"Guest name list: {guest_name} \\n\")\n",
    "print(f\"Guest meal preference: {guest_meal} \\n\")"
   ]
  },
  {
   "cell_type": "code",
   "execution_count": 151,
   "metadata": {},
   "outputs": [
    {
     "name": "stdout",
     "output_type": "stream",
     "text": [
      "There will be 20 guests eating turkey. \n",
      "\n"
     ]
    }
   ],
   "source": [
    "# count the number of guests that will eat turkey\n",
    "\n",
    "#create empty list\n",
    "turkey_guest = []\n",
    "\n",
    "#for each index number in the range of guest_meal\n",
    "for vegetarian in guest_meal:\n",
    "    if vegetarian== 'No' or vegetarian== 'Sometimes':\n",
    "         turkey_guest.append(vegetarian)\n",
    "# return the number of guests who will eat turkey\n",
    "print(f\"There will be {len(turkey_guest)} guests eating turkey. \\n\")"
   ]
  },
  {
   "cell_type": "markdown",
   "metadata": {},
   "source": [
    "### Part 2\n",
    "- Determine the minimum size turkey"
   ]
  },
  {
   "cell_type": "code",
   "execution_count": 152,
   "metadata": {},
   "outputs": [
    {
     "name": "stdout",
     "output_type": "stream",
     "text": [
      "Max_Guests\tMin_Pounds\n",
      "4\t5\n",
      "6\t8\n",
      "8\t10\n",
      "10\t13\n",
      "12\t15\n",
      "15\t20\n",
      "20\t25\n",
      "\n"
     ]
    }
   ],
   "source": [
    "## Compare number of guests to Butterball's recommendation\n",
    "\n",
    "# open file and make readable without altering original\n",
    "\n",
    "with open('turkey_size.txt', 'r') as file_name:\n",
    "    min_turkey=(file_name.read())\n",
    "    print(min_turkey)\n",
    "\n",
    "# Seperate the two columns in turkey_size\n",
    "\n",
    "min_turkey = open(\"turkey_size.txt\", \"r\")\n",
    "#make empty lists\n",
    "Max_Guests=[]\n",
    "Min_Pounds=[]\n",
    "\n",
    "for foo in min_turkey:\n",
    "    #strip white space\n",
    "    stripped_list = foo.rstrip()\n",
    "    #split the list on \\t\n",
    "    split_list = stripped_list.split(\"\\t\")\n",
    "    #append the split lists into the empty lists\n",
    "    Max_Guests.append(split_list[0])\n",
    "    Min_Pounds.append(split_list[1])"
   ]
  },
  {
   "cell_type": "code",
   "execution_count": 153,
   "metadata": {},
   "outputs": [
    {
     "name": "stdout",
     "output_type": "stream",
     "text": [
      "['Max_Guests', '4', '6', '8', '10', '12', '15', '20'] ['Min_Pounds', '5', '8', '10', '13', '15', '20', '25']\n",
      "['4', '6', '8', '10', '12', '15', '20'] ['5', '8', '10', '13', '15', '20', '25']\n"
     ]
    }
   ],
   "source": [
    "# remove the first element in the list\n",
    "print(Max_Guests, Min_Pounds)\n",
    "Max_Guests.pop(0)\n",
    "Min_Pounds.pop(0)\n",
    "print(Max_Guests, Min_Pounds)"
   ]
  },
  {
   "cell_type": "code",
   "execution_count": 175,
   "metadata": {},
   "outputs": [
    {
     "name": "stdout",
     "output_type": "stream",
     "text": [
      "[4, 6, 8, 10, 12, 15, 20]\n"
     ]
    }
   ],
   "source": [
    "# Convert the elements of Max_Guests into a string containing integers\n",
    "string = []\n",
    "for i in Max_Guests:\n",
    "    string.append(int(i))\n",
    "print(string)"
   ]
  },
  {
   "cell_type": "code",
   "execution_count": 194,
   "metadata": {},
   "outputs": [
    {
     "name": "stdout",
     "output_type": "stream",
     "text": [
      "If more than one option, choose the smallest turkey size.\n",
      "\tA turkey of 25 pounds can feed 20 people.\n"
     ]
    }
   ],
   "source": [
    "# If a turkey can feed the current amount of guests, or more than, print the turkey size and the recommended servings\n",
    "\n",
    "num=len(turkey_guest)\n",
    "turk_pounds = []\n",
    "print(f\"If more than one option, choose the smallest turkey size.\")\n",
    "for index in range(0,len(Max_Guests)):\n",
    "    if string[index] >= num:\n",
    "        print(f\"\\tA turkey of {Min_Pounds[index]} pounds can feed {Max_Guests[index]} people.\")\n",
    "        turk_pounds.append(Min_Pounds[index]) "
   ]
  },
  {
   "cell_type": "markdown",
   "metadata": {},
   "source": [
    "### Part 3\n",
    "- Append 3 guests to the guest_list.txt and rerun the above code"
   ]
  },
  {
   "cell_type": "code",
   "execution_count": 149,
   "metadata": {},
   "outputs": [],
   "source": [
    "# Add new guests to the guest list\n",
    "\n",
    "file_name = open('guest_list.txt', 'a')\n",
    "file_name.write('Larry\\tNo\\n') \n",
    "file_name.write('Moe\\tYes\\n')\n",
    "file_name.write('Curly\\tSometimes\\n')\n",
    "file_name.close()"
   ]
  }
 ],
 "metadata": {
  "kernelspec": {
   "display_name": "Python 3",
   "language": "python",
   "name": "python3"
  },
  "language_info": {
   "codemirror_mode": {
    "name": "ipython",
    "version": 3
   },
   "file_extension": ".py",
   "mimetype": "text/x-python",
   "name": "python",
   "nbconvert_exporter": "python",
   "pygments_lexer": "ipython3",
   "version": "3.8.3"
  }
 },
 "nbformat": 4,
 "nbformat_minor": 4
}
